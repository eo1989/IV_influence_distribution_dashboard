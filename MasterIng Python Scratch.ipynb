{
 "cells": [
  {
   "cell_type": "code",
   "execution_count": 1,
   "metadata": {},
   "outputs": [],
   "source": [
    "some_var = 123"
   ]
  },
  {
   "cell_type": "code",
   "execution_count": null,
   "metadata": {},
   "outputs": [
    {
     "name": "stdout",
     "output_type": "stream",
     "text": [
      "Got something else:  123\n"
     ]
    }
   ],
   "source": [
    "match some_var:\n",
    "    case 1:\n",
    "        print(\"Got 1\")\n",
    "    case other:\n",
    "        print(\"Got something else: \", other)"
   ]
  },
  {
   "cell_type": "code",
   "execution_count": 3,
   "metadata": {},
   "outputs": [],
   "source": [
    "class Direction:\n",
    "    LEFT = -1\n",
    "    RIGHT = 1"
   ]
  },
  {
   "cell_type": "code",
   "execution_count": 4,
   "metadata": {},
   "outputs": [],
   "source": [
    "some_var = Direction.LEFT"
   ]
  },
  {
   "cell_type": "code",
   "execution_count": null,
   "metadata": {},
   "outputs": [
    {
     "name": "stdout",
     "output_type": "stream",
     "text": [
      "Going left\n"
     ]
    }
   ],
   "source": [
    "match some_var:\n",
    "    case Direction.LEFT:\n",
    "        print(\"Going left\")\n",
    "    case Direction.RIGHT:\n",
    "        print(\"Going right\")"
   ]
  },
  {
   "cell_type": "markdown",
   "metadata": {},
   "source": [
    "As long as this cant be interpreted as a variable name, this will work. When comparing with a local variable, an `if` statement can always be used as well."
   ]
  },
  {
   "cell_type": "code",
   "execution_count": null,
   "metadata": {},
   "outputs": [
    {
     "name": "stdout",
     "output_type": "stream",
     "text": [
      "no match\n"
     ]
    }
   ],
   "source": [
    "# value = 0\n",
    "match value:\n",
    "    case negative if negative < 0:\n",
    "        print(f\"{negative} is smaller than 0\")\n",
    "    case positive if positive > 0:\n",
    "        print(f\"{positive} is greater than 0\")\n",
    "    case _:\n",
    "        print(\"no match\")"
   ]
  },
  {
   "cell_type": "markdown",
   "metadata": {},
   "source": [
    "Without a `value` variable decalred before the `if` it will not work.\n",
    "This will not work: `case if ...`\n",
    "\n",
    "#### Matching lists, tuples, & other sequences"
   ]
  },
  {
   "cell_type": "code",
   "execution_count": null,
   "metadata": {},
   "outputs": [
    {
     "name": "stdout",
     "output_type": "stream",
     "text": [
      "matching (0, 1): exactly matched 0, 1\n",
      "matching (0, 2): matched 0, y with y: 2\n",
      "matching (0, 3): matched 0, y with y: 3\n"
     ]
    }
   ],
   "source": [
    "vals = (0, 1), (0, 2), (0, 3)\n",
    "\n",
    "for value in vals:\n",
    "    print(\"matching\", value, end=\": \")\n",
    "    match value:\n",
    "        case 0, 1:\n",
    "            print(\"exactly matched 0, 1\")\n",
    "        case 0, y:\n",
    "            print(f\"matched 0, y with y: {y}\")\n",
    "        case x, y:\n",
    "            print(f\"matched x, y with x, y: {x}, {y}\")"
   ]
  },
  {
   "cell_type": "markdown",
   "metadata": {},
   "source": [
    "The first case explicitly matches both of the given values, which is identical to `if value == (0, 1):`.\n",
    "The second case explicitly matches 0 for the first value, but leaves the second value as a variable and stores it in `y`. Effectively this comes down to `if value[0] == 0: y == value[1]`.\n",
    "The last case stores a variable for both the `x` and `y` values and whill match any sequence with exactly two items.\n",
    "\n",
    "#### Matching sequence patterns:"
   ]
  },
  {
   "cell_type": "code",
   "execution_count": null,
   "metadata": {},
   "outputs": [
    {
     "name": "stdout",
     "output_type": "stream",
     "text": [
      "matching (0, 1): matched x, y with x, y: 0, 1\n",
      "matching (0, 2): matched x, y with x, y: 0, 2\n",
      "matching (0, 3): no match\n"
     ]
    }
   ],
   "source": [
    "for value in vals:\n",
    "    print(\"matching\", value, end=\": \")\n",
    "    match value:\n",
    "        case 0 as x, (1 | 2) as y:\n",
    "            print(f\"matched x, y with x, y: {x}, {y}\")\n",
    "        case _:\n",
    "            print(\"no match\")"
   ]
  },
  {
   "cell_type": "code",
   "execution_count": null,
   "metadata": {},
   "outputs": [],
   "source": []
  }
 ],
 "metadata": {
  "kernelspec": {
   "display_name": "IV Dist Dash",
   "language": "python",
   "name": "iv_dist_dash"
  },
  "language_info": {
   "codemirror_mode": {
    "name": "ipython",
    "version": 3
   },
   "file_extension": ".py",
   "mimetype": "text/x-python",
   "name": "python",
   "nbconvert_exporter": "python",
   "pygments_lexer": "ipython3",
   "version": "3.12.5"
  }
 },
 "nbformat": 4,
 "nbformat_minor": 2
}
