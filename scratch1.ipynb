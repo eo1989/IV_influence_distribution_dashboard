{
 "cells": [
  {
   "cell_type": "code",
   "execution_count": 6,
   "metadata": {},
   "outputs": [],
   "source": [
    "import jax\n",
    "import jax.numpy as jnp\n",
    "\n",
    "import jax.scipy\n",
    "from jax.scipy import special as sfn\n",
    "from jax.scipy.stats import norm\n",
    "\n",
    "from jax import grad, jit\n",
    "\n",
    "from jax import random as rd\n",
    "key = rd.PRNGKey(42069)\n",
    "\n",
    "# from scipy.stats import norm"
   ]
  },
  {
   "cell_type": "code",
   "execution_count": 7,
   "metadata": {},
   "outputs": [],
   "source": [
    "def dFac(r, dt):\n",
    "    \"\"\"Returns the sum of e^(r*dt)\"\"\"\n",
    "    return jnp.exp(-r * dt)"
   ]
  },
  {
   "cell_type": "code",
   "execution_count": 8,
   "metadata": {},
   "outputs": [],
   "source": [
    "S = 100.0\n",
    "K = 110.0\n",
    "r = 0.040\n",
    "sigma = 0.18\n",
    "T = 30/365"
   ]
  },
  {
   "cell_type": "code",
   "execution_count": 9,
   "metadata": {},
   "outputs": [],
   "source": [
    "def BlackMC(S, K, r, sigma, T):\n",
    "    Z = rd.normal(key, shape=(1_000_000, ))\n",
    "    W_T = jnp.sqrt(T)*Z\n",
    "    prices = S * jnp.exp((r - 0.5*jnp.square(sigma))*T + sigma*W_T)\n",
    "    payoffs = jnp.maximum(prices - K, 0)  # or use torch.max(prices - K, torch.zeros(1_000_000))\n",
    "    return jnp.mean(payoffs) * jnp.exp(-r*T)"
   ]
  },
  {
   "cell_type": "code",
   "execution_count": 10,
   "metadata": {},
   "outputs": [
    {
     "name": "stdout",
     "output_type": "stream",
     "text": [
      "0.08066291\n"
     ]
    }
   ],
   "source": [
    "print(BlackMC(S, K, r, sigma, T))\n"
   ]
  },
  {
   "cell_type": "code",
   "execution_count": 11,
   "metadata": {},
   "outputs": [
    {
     "ename": "SyntaxError",
     "evalue": "invalid syntax (3136860127.py, line 4)",
     "output_type": "error",
     "traceback": [
      "\u001b[0;36m  Cell \u001b[0;32mIn[11], line 4\u001b[0;36m\u001b[0m\n\u001b[0;31m    GammaMC =\u001b[0m\n\u001b[0m             ^\u001b[0m\n\u001b[0;31mSyntaxError\u001b[0m\u001b[0;31m:\u001b[0m invalid syntax\n"
     ]
    }
   ],
   "source": [
    "value = BlackMC(S, K, r, sigma, T)\n",
    "\n",
    "DeltaMC, RhoMC, VegaMC, mThetaMC = [jax.grad(BlackMC, argnums = x) for x in [0, 2, 3, 4]]\n",
    "GammaMC =\n",
    "\n",
    "print(f\"Value: {value}\\nDelta: {DeltaMC(S, K, r, sigma, T)}\\nRho {RhoMC(S, K, r, sigma, T)}\\nVega {VegaMC(S, K, r, sigma, T)}\\nmTheta {mThetaMC(S, K, r, sigma, T)}\")"
   ]
  },
  {
   "cell_type": "code",
   "execution_count": null,
   "metadata": {},
   "outputs": [],
   "source": []
  }
 ],
 "metadata": {
  "kernelspec": {
   "display_name": "IV Dist Dash",
   "language": "python",
   "name": "iv_dist_dash"
  },
  "language_info": {
   "codemirror_mode": {
    "name": "ipython",
    "version": 3
   },
   "file_extension": ".py",
   "mimetype": "text/x-python",
   "name": "python",
   "nbconvert_exporter": "python",
   "pygments_lexer": "ipython3",
   "version": "3.12.5"
  }
 },
 "nbformat": 4,
 "nbformat_minor": 2
}
