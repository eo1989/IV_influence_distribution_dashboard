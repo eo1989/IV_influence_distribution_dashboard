{
 "cells": [
  {
   "cell_type": "code",
   "execution_count": 1,
   "metadata": {},
   "outputs": [
    {
     "data": {
      "text/html": [
       "<div>\n",
       "<style scoped>\n",
       "    .dataframe tbody tr th:only-of-type {\n",
       "        vertical-align: middle;\n",
       "    }\n",
       "\n",
       "    .dataframe tbody tr th {\n",
       "        vertical-align: top;\n",
       "    }\n",
       "\n",
       "    .dataframe thead th {\n",
       "        text-align: right;\n",
       "    }\n",
       "</style>\n",
       "<table border=\"1\" class=\"dataframe\">\n",
       "  <thead>\n",
       "    <tr style=\"text-align: right;\">\n",
       "      <th></th>\n",
       "      <th>gender</th>\n",
       "      <th>cross_sell_email</th>\n",
       "      <th>age</th>\n",
       "      <th>conversion</th>\n",
       "    </tr>\n",
       "  </thead>\n",
       "  <tbody>\n",
       "    <tr>\n",
       "      <th>0</th>\n",
       "      <td>0</td>\n",
       "      <td>short</td>\n",
       "      <td>15</td>\n",
       "      <td>0</td>\n",
       "    </tr>\n",
       "    <tr>\n",
       "      <th>1</th>\n",
       "      <td>1</td>\n",
       "      <td>short</td>\n",
       "      <td>27</td>\n",
       "      <td>0</td>\n",
       "    </tr>\n",
       "    <tr>\n",
       "      <th>2</th>\n",
       "      <td>1</td>\n",
       "      <td>long</td>\n",
       "      <td>17</td>\n",
       "      <td>0</td>\n",
       "    </tr>\n",
       "    <tr>\n",
       "      <th>3</th>\n",
       "      <td>1</td>\n",
       "      <td>long</td>\n",
       "      <td>34</td>\n",
       "      <td>0</td>\n",
       "    </tr>\n",
       "    <tr>\n",
       "      <th>4</th>\n",
       "      <td>1</td>\n",
       "      <td>no_email</td>\n",
       "      <td>14</td>\n",
       "      <td>0</td>\n",
       "    </tr>\n",
       "    <tr>\n",
       "      <th>...</th>\n",
       "      <td>...</td>\n",
       "      <td>...</td>\n",
       "      <td>...</td>\n",
       "      <td>...</td>\n",
       "    </tr>\n",
       "    <tr>\n",
       "      <th>318</th>\n",
       "      <td>0</td>\n",
       "      <td>long</td>\n",
       "      <td>18</td>\n",
       "      <td>0</td>\n",
       "    </tr>\n",
       "    <tr>\n",
       "      <th>319</th>\n",
       "      <td>1</td>\n",
       "      <td>no_email</td>\n",
       "      <td>16</td>\n",
       "      <td>0</td>\n",
       "    </tr>\n",
       "    <tr>\n",
       "      <th>320</th>\n",
       "      <td>0</td>\n",
       "      <td>no_email</td>\n",
       "      <td>15</td>\n",
       "      <td>0</td>\n",
       "    </tr>\n",
       "    <tr>\n",
       "      <th>321</th>\n",
       "      <td>1</td>\n",
       "      <td>no_email</td>\n",
       "      <td>16</td>\n",
       "      <td>0</td>\n",
       "    </tr>\n",
       "    <tr>\n",
       "      <th>322</th>\n",
       "      <td>1</td>\n",
       "      <td>long</td>\n",
       "      <td>24</td>\n",
       "      <td>1</td>\n",
       "    </tr>\n",
       "  </tbody>\n",
       "</table>\n",
       "<p>323 rows × 4 columns</p>\n",
       "</div>"
      ],
      "text/plain": [
       "     gender cross_sell_email  age  conversion\n",
       "0         0            short   15           0\n",
       "1         1            short   27           0\n",
       "2         1             long   17           0\n",
       "3         1             long   34           0\n",
       "4         1         no_email   14           0\n",
       "..      ...              ...  ...         ...\n",
       "318       0             long   18           0\n",
       "319       1         no_email   16           0\n",
       "320       0         no_email   15           0\n",
       "321       1         no_email   16           0\n",
       "322       1             long   24           1\n",
       "\n",
       "[323 rows x 4 columns]"
      ]
     },
     "execution_count": 1,
     "metadata": {},
     "output_type": "execute_result"
    }
   ],
   "source": [
    "import matplotlib.pyplot as plt\n",
    "import seaborn as sns\n",
    "import pandas as pd\n",
    "import numpy as np\n",
    "\n",
    "\n",
    "data = pd.read_csv(\"../scratch/causal-inference-in-python-code/causal-inference-in-python/data/cross_sell_email.csv\")\n",
    "data"
   ]
  },
  {
   "cell_type": "code",
   "execution_count": null,
   "metadata": {},
   "outputs": [],
   "source": [
    "sns.set_theme('notebook')\n",
    "sns.set_palette(palette = 'pastel')"
   ]
  },
  {
   "cell_type": "code",
   "execution_count": 11,
   "metadata": {},
   "outputs": [
    {
     "data": {
      "text/html": [
       "<div>\n",
       "<style scoped>\n",
       "    .dataframe tbody tr th:only-of-type {\n",
       "        vertical-align: middle;\n",
       "    }\n",
       "\n",
       "    .dataframe tbody tr th {\n",
       "        vertical-align: top;\n",
       "    }\n",
       "\n",
       "    .dataframe thead th {\n",
       "        text-align: right;\n",
       "    }\n",
       "</style>\n",
       "<table border=\"1\" class=\"dataframe\">\n",
       "  <thead>\n",
       "    <tr style=\"text-align: right;\">\n",
       "      <th></th>\n",
       "      <th>gender</th>\n",
       "      <th>age</th>\n",
       "      <th>conversion</th>\n",
       "    </tr>\n",
       "    <tr>\n",
       "      <th>cross_sell_email</th>\n",
       "      <th></th>\n",
       "      <th></th>\n",
       "      <th></th>\n",
       "    </tr>\n",
       "  </thead>\n",
       "  <tbody>\n",
       "    <tr>\n",
       "      <th>long</th>\n",
       "      <td>0.550459</td>\n",
       "      <td>21.752294</td>\n",
       "      <td>0.055046</td>\n",
       "    </tr>\n",
       "    <tr>\n",
       "      <th>no_email</th>\n",
       "      <td>0.542553</td>\n",
       "      <td>20.489362</td>\n",
       "      <td>0.042553</td>\n",
       "    </tr>\n",
       "    <tr>\n",
       "      <th>short</th>\n",
       "      <td>0.633333</td>\n",
       "      <td>20.991667</td>\n",
       "      <td>0.125000</td>\n",
       "    </tr>\n",
       "  </tbody>\n",
       "</table>\n",
       "</div>"
      ],
      "text/plain": [
       "                    gender        age  conversion\n",
       "cross_sell_email                                 \n",
       "long              0.550459  21.752294    0.055046\n",
       "no_email          0.542553  20.489362    0.042553\n",
       "short             0.633333  20.991667    0.125000"
      ]
     },
     "execution_count": 11,
     "metadata": {},
     "output_type": "execute_result"
    }
   ],
   "source": [
    "data2 = data.copy()\n",
    "(data2.groupby([\"cross_sell_email\"]).mean())\n",
    "# data2"
   ]
  },
  {
   "cell_type": "code",
   "execution_count": 3,
   "metadata": {},
   "outputs": [
    {
     "data": {
      "text/html": [
       "<div>\n",
       "<style scoped>\n",
       "    .dataframe tbody tr th:only-of-type {\n",
       "        vertical-align: middle;\n",
       "    }\n",
       "\n",
       "    .dataframe tbody tr th {\n",
       "        vertical-align: top;\n",
       "    }\n",
       "\n",
       "    .dataframe thead th {\n",
       "        text-align: right;\n",
       "    }\n",
       "</style>\n",
       "<table border=\"1\" class=\"dataframe\">\n",
       "  <thead>\n",
       "    <tr style=\"text-align: right;\">\n",
       "      <th></th>\n",
       "      <th>gender</th>\n",
       "      <th>age</th>\n",
       "    </tr>\n",
       "    <tr>\n",
       "      <th>cross_sell_email</th>\n",
       "      <th></th>\n",
       "      <th></th>\n",
       "    </tr>\n",
       "  </thead>\n",
       "  <tbody>\n",
       "    <tr>\n",
       "      <th>long</th>\n",
       "      <td>0.015802</td>\n",
       "      <td>0.221423</td>\n",
       "    </tr>\n",
       "    <tr>\n",
       "      <th>no_email</th>\n",
       "      <td>0.000000</td>\n",
       "      <td>0.000000</td>\n",
       "    </tr>\n",
       "    <tr>\n",
       "      <th>short</th>\n",
       "      <td>0.184341</td>\n",
       "      <td>0.087370</td>\n",
       "    </tr>\n",
       "  </tbody>\n",
       "</table>\n",
       "</div>"
      ],
      "text/plain": [
       "                    gender       age\n",
       "cross_sell_email                    \n",
       "long              0.015802  0.221423\n",
       "no_email          0.000000  0.000000\n",
       "short             0.184341  0.087370"
      ]
     },
     "execution_count": 3,
     "metadata": {},
     "output_type": "execute_result"
    }
   ],
   "source": [
    "X = ['gender', 'age']\n",
    "mu = data.groupby(\"cross_sell_email\")[X].mean()\n",
    "var = data.groupby(\"cross_sell_email\")[X].var()\n",
    "\n",
    "norm_diff = ((mu - mu.loc[\"no_email\"]) / np.sqrt((var + var.loc[\"no_email\"]) / 2))\n",
    "norm_diff"
   ]
  },
  {
   "cell_type": "code",
   "execution_count": 4,
   "metadata": {},
   "outputs": [
    {
     "data": {
      "text/html": [
       "<div>\n",
       "<style scoped>\n",
       "    .dataframe tbody tr th:only-of-type {\n",
       "        vertical-align: middle;\n",
       "    }\n",
       "\n",
       "    .dataframe tbody tr th {\n",
       "        vertical-align: top;\n",
       "    }\n",
       "\n",
       "    .dataframe thead th {\n",
       "        text-align: right;\n",
       "    }\n",
       "</style>\n",
       "<table border=\"1\" class=\"dataframe\">\n",
       "  <thead>\n",
       "    <tr style=\"text-align: right;\">\n",
       "      <th></th>\n",
       "      <th>year</th>\n",
       "      <th>school_id</th>\n",
       "      <th>number_of_students</th>\n",
       "      <th>avg_score</th>\n",
       "    </tr>\n",
       "  </thead>\n",
       "  <tbody>\n",
       "    <tr>\n",
       "      <th>16670</th>\n",
       "      <td>2007</td>\n",
       "      <td>33062633</td>\n",
       "      <td>68</td>\n",
       "      <td>82.97</td>\n",
       "    </tr>\n",
       "    <tr>\n",
       "      <th>16796</th>\n",
       "      <td>2007</td>\n",
       "      <td>33065403</td>\n",
       "      <td>172</td>\n",
       "      <td>82.04</td>\n",
       "    </tr>\n",
       "    <tr>\n",
       "      <th>16668</th>\n",
       "      <td>2005</td>\n",
       "      <td>33062633</td>\n",
       "      <td>59</td>\n",
       "      <td>81.89</td>\n",
       "    </tr>\n",
       "    <tr>\n",
       "      <th>16794</th>\n",
       "      <td>2005</td>\n",
       "      <td>33065403</td>\n",
       "      <td>177</td>\n",
       "      <td>81.66</td>\n",
       "    </tr>\n",
       "    <tr>\n",
       "      <th>10043</th>\n",
       "      <td>2007</td>\n",
       "      <td>29342880</td>\n",
       "      <td>43</td>\n",
       "      <td>80.32</td>\n",
       "    </tr>\n",
       "    <tr>\n",
       "      <th>18121</th>\n",
       "      <td>2007</td>\n",
       "      <td>33152314</td>\n",
       "      <td>14</td>\n",
       "      <td>79.82</td>\n",
       "    </tr>\n",
       "    <tr>\n",
       "      <th>16781</th>\n",
       "      <td>2007</td>\n",
       "      <td>33065250</td>\n",
       "      <td>80</td>\n",
       "      <td>79.67</td>\n",
       "    </tr>\n",
       "    <tr>\n",
       "      <th>3026</th>\n",
       "      <td>2007</td>\n",
       "      <td>22025740</td>\n",
       "      <td>144</td>\n",
       "      <td>79.52</td>\n",
       "    </tr>\n",
       "    <tr>\n",
       "      <th>14636</th>\n",
       "      <td>2007</td>\n",
       "      <td>31311723</td>\n",
       "      <td>222</td>\n",
       "      <td>79.41</td>\n",
       "    </tr>\n",
       "    <tr>\n",
       "      <th>17318</th>\n",
       "      <td>2007</td>\n",
       "      <td>33087679</td>\n",
       "      <td>210</td>\n",
       "      <td>79.38</td>\n",
       "    </tr>\n",
       "  </tbody>\n",
       "</table>\n",
       "</div>"
      ],
      "text/plain": [
       "       year  school_id  number_of_students  avg_score\n",
       "16670  2007   33062633                  68      82.97\n",
       "16796  2007   33065403                 172      82.04\n",
       "16668  2005   33062633                  59      81.89\n",
       "16794  2005   33065403                 177      81.66\n",
       "10043  2007   29342880                  43      80.32\n",
       "18121  2007   33152314                  14      79.82\n",
       "16781  2007   33065250                  80      79.67\n",
       "3026   2007   22025740                 144      79.52\n",
       "14636  2007   31311723                 222      79.41\n",
       "17318  2007   33087679                 210      79.38"
      ]
     },
     "execution_count": 4,
     "metadata": {},
     "output_type": "execute_result"
    }
   ],
   "source": [
    "df = pd.read_csv(\n",
    "    \"../scratch/causal-inference-in-python-code/causal-inference-in-python/data/enem_scores.csv\"\n",
    ")\n",
    "df.sort_values(by=\"avg_score\", ascending=False).head(10)"
   ]
  },
  {
   "cell_type": "code",
   "execution_count": 5,
   "metadata": {},
   "outputs": [
    {
     "data": {
      "text/plain": [
       "cross_sell_email\n",
       "long        109\n",
       "no_email     94\n",
       "short       120\n",
       "dtype: int64"
      ]
     },
     "execution_count": 5,
     "metadata": {},
     "output_type": "execute_result"
    }
   ],
   "source": [
    "data = pd.read_csv(\n",
    "    \"../scratch/causal-inference-in-python-code/causal-inference-in-python/data/cross_sell_email.csv\"\n",
    ")\n",
    "\n",
    "short_email = data.query(\"cross_sell_email=='short'\")[\"conversion\"]\n",
    "long_email = data.query(\"cross_sell_email=='long'\")[\"conversion\"]\n",
    "email = data.query(\"cross_sell_email!='no_email'\")[\"conversion\"]\n",
    "no_email = data.query(\"cross_sell_email=='no_email'\")[\"conversion\"]\n",
    "\n",
    "data.groupby(\"cross_sell_email\").size()\n"
   ]
  },
  {
   "cell_type": "markdown",
   "metadata": {},
   "source": [
    "To get the estimate for the standard deviation, you can apply the following equation:\n",
    "\n",
    "\\begin{equation}\n",
    "\\hat{𝛔} = \\sqrt{\\frac{1}{N - 1}\\Sigma_{i = 0}^{N}(x - \\bar{x})^{2}}\n",
    "\\end{equation}"
   ]
  },
  {
   "cell_type": "code",
   "execution_count": 6,
   "metadata": {},
   "outputs": [
    {
     "name": "stdout",
     "output_type": "stream",
     "text": [
      "SE for Long Email: 0.0219\n",
      "SE for Short Email: 0.0303\n"
     ]
    }
   ],
   "source": [
    "def se(y: pd.Series):\n",
    "    return y.std() / np.sqrt(len(y))\n",
    "\n",
    "\n",
    "print(f\"SE for Long Email: {se(long_email):.3g}\")\n",
    "print(f\"SE for Short Email: {se(short_email):.3g}\")"
   ]
  },
  {
   "cell_type": "code",
   "execution_count": 7,
   "metadata": {},
   "outputs": [
    {
     "name": "stdout",
     "output_type": "stream",
     "text": [
      "SE for Long Email: 0.021946\n",
      "SE for Short Email: 0.030317\n"
     ]
    }
   ],
   "source": [
    "print(f\"SE for Long Email: {long_email.sem():3g}\")\n",
    "print(f\"SE for Short Email: {short_email.sem():3g}\")"
   ]
  },
  {
   "cell_type": "markdown",
   "metadata": {},
   "source": [
    "#### Confidence Intervals:\n",
    "The standard error of the estimate is a measure of confidence. For the frequentist view of statistics, we would say that our data is nothing more than a manifestation of an underlying data-generating process. This process is abstract and ideal. It is governed by true paramters that are unchanged but also unknown to us. In the context of cross-sell email, if we ran multiple experiments  and calculated the conversion rate for each of them, they would fall around the true underlying conversion rate, even if they werent exactly equal to it. \n",
    "To better understand this, assume you have the true abstract distribution of conversion for the short cross-sell email. Because conversion is either zero or one, it follows a Bernoulli distribution and lets say that the probability of success in this distribution is 0.08. That is, whenever a customer receives the short email, it has an 8% chance of converting. Next, 10,000 experiments are ran. On each one, a sample of 100 customers is collected, and a short email is sent to abserve the average conversion, yielding a total of 10,000 conversion rates. The 10,000 conversion rates from those experiments will be distributed around th true mean of 0.08."
   ]
  },
  {
   "cell_type": "code",
   "execution_count": 9,
   "metadata": {},
   "outputs": [],
   "source": [
    "n = 100  # 100 customers\n",
    "conv_rate = 0.08 # tru conversion rate\n",
    "\n",
    "def run_experiment():\n",
    "    return np.random.binomial(1, conv_rate, size = n)\n",
    "\n",
    "np.random.seed(42)\n",
    "\n",
    "experiments = [run_experiment().mean() for _ in range(10_000)]\n",
    "\n"
   ]
  },
  {
   "cell_type": "code",
   "execution_count": 13,
   "metadata": {},
   "outputs": [],
   "source": [
    "\n",
    "import matplotlib as mpl"
   ]
  },
  {
   "cell_type": "code",
   "execution_count": null,
   "metadata": {},
   "outputs": [],
   "source": [
    "mpl.use('MacOSX')"
   ]
  },
  {
   "cell_type": "code",
   "execution_count": 28,
   "metadata": {},
   "outputs": [
    {
     "data": {
      "image/png": "[encoded data removed]",
      "text/plain": [
       "<Figure size 1000x400 with 1 Axes>"
      ]
     },
     "metadata": {},
     "output_type": "display_data"
    }
   ],
   "source": [
    "%matplotlib inline\n",
    "plt.figure(figsize = (10, 4))\n",
    "# freq, bins, img = sns.histplot(experiments, bins = 20, legend = True)\n",
    "freq, bins, img = plt.hist(experiments, bins = 20, label = \"Experiment Means\", color = \"0.6\")\n",
    "plt.vlines(conv_rate, ymin = 0, ymax = freq.max(), linestyles = \"dashed\", label = \"True Mean\", color = \"0.3\")\n",
    "plt.legend()\n",
    "plt.show()"
   ]
  },
  {
   "cell_type": "code",
   "execution_count": null,
   "metadata": {},
   "outputs": [],
   "source": []
  }
 ],
 "metadata": {
  "kernelspec": {
   "display_name": "IV Dist Dash",
   "language": "python",
   "name": "iv_dist_dash"
  },
  "language_info": {
   "codemirror_mode": {
    "name": "ipython",
    "version": 3
   },
   "file_extension": ".py",
   "mimetype": "text/x-python",
   "name": "python",
   "nbconvert_exporter": "python",
   "pygments_lexer": "ipython3",
   "version": "3.12.5"
  }
 },
 "nbformat": 4,
 "nbformat_minor": 2
}
